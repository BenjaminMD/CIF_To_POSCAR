{
 "cells": [
  {
   "cell_type": "code",
   "execution_count": null,
   "metadata": {},
   "outputs": [],
   "source": []
  },
  {
   "cell_type": "code",
   "execution_count": 3,
   "metadata": {},
   "outputs": [
    {
     "name": "stdout",
     "output_type": "stream",
     "text": [
      "No of atoms: 16, less than 50 extending cell\n",
      "No of atoms: 128\n",
      "-------------------\n",
      "Atoms: O site 8c is under occupied 0.875\n",
      "____________Counts {'Lu': 16, 'O': 56, 'Zr': 16} _________\n"
     ]
    }
   ],
   "source": [
    "from rsc.cif_to_poscar import CIF_to_POSCAR\n",
    "\n",
    "fluorite = CIF_to_POSCAR('./CIF/Er2Zr2O7_Fluor_300K.cif','OUT/standard/')\n",
    "fluorite.write_POSCAR()"
   ]
  },
  {
   "cell_type": "code",
   "execution_count": null,
   "metadata": {},
   "outputs": [],
   "source": []
  }
 ],
 "metadata": {
  "kernelspec": {
   "display_name": "Python 3.9.12 ('ifk')",
   "language": "python",
   "name": "python3"
  },
  "language_info": {
   "codemirror_mode": {
    "name": "ipython",
    "version": 3
   },
   "file_extension": ".py",
   "mimetype": "text/x-python",
   "name": "python",
   "nbconvert_exporter": "python",
   "pygments_lexer": "ipython3",
   "version": "3.9.12"
  },
  "orig_nbformat": 4,
  "vscode": {
   "interpreter": {
    "hash": "f3448543969f4d7ccd8631c2a0b2f02de5759e8ca1e5cdc8f4685b78439f373f"
   }
  }
 },
 "nbformat": 4,
 "nbformat_minor": 2
}
