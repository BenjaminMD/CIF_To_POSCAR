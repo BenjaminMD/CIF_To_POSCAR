{
 "cells": [
  {
   "cell_type": "markdown",
   "metadata": {},
   "source": [
    "Basic usage read cif and write poscar. between read and write one can do modification of the structure. For example, one can add or remove a new atom. Or modify the symmetry relations"
   ]
  },
  {
   "cell_type": "code",
   "execution_count": null,
   "metadata": {},
   "outputs": [
    {
     "name": "stdout",
     "output_type": "stream",
     "text": [
      "No of atoms: 16, less than 50 extending cell\n",
      "No of atoms: 128\n",
      "-------------------\n",
      "Atoms: O site 8c is under occupied 0.875\n",
      "____________Counts {'Lu': 16, 'O': 56, 'Zr': 16} _________\n"
     ]
    }
   ],
   "source": [
    "from rsc.cif_to_poscar import CIF_to_POSCAR\n",
    "\n",
    "fluorite = CIF_to_POSCAR('./CIF/Er2Zr2O7_Fluor_300K.cif','OUT/standard/')\n",
    "# access the attributes of fluorite for example: fluorite.df to deal with atom_site data\n",
    "fluorite.write_POSCAR()"
   ]
  },
  {
   "cell_type": "code",
   "execution_count": 2,
   "metadata": {},
   "outputs": [
    {
     "name": "stdout",
     "output_type": "stream",
     "text": [
      "No of atoms: 16, less than 50 extending cell\n",
      "No of atoms: 128\n",
      "-------------------\n",
      "No of atoms: 16, less than 50 extending cell\n",
      "No of atoms: 128\n",
      "-------------------\n",
      "Atoms: O site 8c is under occupied 0.875\n",
      "____________Counts {'Lu': 13, 'O': 56, 'Zr': 13} _________\n",
      "No of atoms: 16, less than 50 extending cell\n",
      "No of atoms: 128\n",
      "-------------------\n",
      "Atoms: O site 8c is under occupied 0.875\n",
      "____________Counts {'Lu': 16, 'O': 56, 'Zr': 16} _________\n",
      "No of atoms: 16, less than 50 extending cell\n",
      "No of atoms: 128\n",
      "-------------------\n",
      "Atoms: O site 8c is under occupied 0.875\n",
      "____________Counts {'Lu': 16, 'O': 56, 'Zr': 16} _________\n",
      "No of atoms: 16, less than 50 extending cell\n",
      "No of atoms: 128\n",
      "-------------------\n",
      "Atoms: O site 8c is under occupied 0.875\n",
      "____________Counts {'Lu': 16, 'O': 56, 'Zr': 16} _________\n",
      "No of atoms: 16, less than 50 extending cell\n",
      "No of atoms: 128\n",
      "-------------------\n",
      "Atoms: O site 8c is under occupied 0.875\n",
      "____________Counts {'Lu': 15, 'O': 56, 'Zr': 17} _________\n",
      "No of atoms: 16, less than 50 extending cell\n",
      "No of atoms: 128\n",
      "-------------------\n",
      "Atoms: O site 8c is under occupied 0.875\n",
      "____________Counts {'Lu': 16, 'O': 56, 'Zr': 16} _________\n"
     ]
    }
   ],
   "source": [
    "from rsc.cif_to_poscar import CIF_to_POSCAR\n",
    "import numpy as np\n",
    "import os\n",
    "\n",
    "fluorite = CIF_to_POSCAR('./CIF/Er2Zr2O7_Fluor_300K.cif','OUT/standard/')\n",
    "\n",
    "for i in np.arange(0.4, 1, 0.1): # example to create a series of poscar files with different occupancies\n",
    "    try: \n",
    "        os.mkdir(f'OUT/standard/{i}')\n",
    "    except FileExistsError:\n",
    "        pass\n",
    "    fluorite = CIF_to_POSCAR('./CIF/Er2Zr2O7_Fluor_300K.cif',f'OUT/standard/{i}')\n",
    "    fluorite.df.loc[fluorite.df.site == '4a', 'occupancy'] = i\n",
    "    fluorite.write_POSCAR()"
   ]
  },
  {
   "cell_type": "markdown",
   "metadata": {},
   "source": [
    "### Modify values before saving"
   ]
  },
  {
   "cell_type": "code",
   "execution_count": null,
   "metadata": {},
   "outputs": [],
   "source": []
  },
  {
   "cell_type": "code",
   "execution_count": 17,
   "metadata": {},
   "outputs": [
    {
     "name": "stdout",
     "output_type": "stream",
     "text": [
      "No of atoms: 16, less than 50 extending cell\n",
      "No of atoms: 128\n",
      "-------------------\n"
     ]
    },
    {
     "data": {
      "text/html": [
       "<div>\n",
       "<style scoped>\n",
       "    .dataframe tbody tr th:only-of-type {\n",
       "        vertical-align: middle;\n",
       "    }\n",
       "\n",
       "    .dataframe tbody tr th {\n",
       "        vertical-align: top;\n",
       "    }\n",
       "\n",
       "    .dataframe thead th {\n",
       "        text-align: right;\n",
       "    }\n",
       "</style>\n",
       "<table border=\"1\" class=\"dataframe\">\n",
       "  <thead>\n",
       "    <tr style=\"text-align: right;\">\n",
       "      <th></th>\n",
       "      <th>label</th>\n",
       "      <th>type_symbol</th>\n",
       "      <th>symmetry_multiplicity</th>\n",
       "      <th>fract_x</th>\n",
       "      <th>fract_y</th>\n",
       "      <th>fract_z</th>\n",
       "      <th>occupancy</th>\n",
       "      <th>B_iso_or_equiv</th>\n",
       "      <th>site</th>\n",
       "    </tr>\n",
       "  </thead>\n",
       "  <tbody>\n",
       "    <tr>\n",
       "      <th>0</th>\n",
       "      <td>Lu4a</td>\n",
       "      <td>Lu</td>\n",
       "      <td>32</td>\n",
       "      <td>0</td>\n",
       "      <td>0</td>\n",
       "      <td>0</td>\n",
       "      <td>0.500</td>\n",
       "      <td>1.69(7)</td>\n",
       "      <td>4a</td>\n",
       "    </tr>\n",
       "    <tr>\n",
       "      <th>1</th>\n",
       "      <td>Zr4a</td>\n",
       "      <td>Zr</td>\n",
       "      <td>32</td>\n",
       "      <td>0</td>\n",
       "      <td>0</td>\n",
       "      <td>0</td>\n",
       "      <td>0.500</td>\n",
       "      <td>1.69(7)</td>\n",
       "      <td>4a</td>\n",
       "    </tr>\n",
       "    <tr>\n",
       "      <th>2</th>\n",
       "      <td>O8c</td>\n",
       "      <td>O</td>\n",
       "      <td>64</td>\n",
       "      <td>0.25</td>\n",
       "      <td>0.25</td>\n",
       "      <td>0.25</td>\n",
       "      <td>0.875</td>\n",
       "      <td>3.39(9)</td>\n",
       "      <td>8c</td>\n",
       "    </tr>\n",
       "  </tbody>\n",
       "</table>\n",
       "</div>"
      ],
      "text/plain": [
       "  label type_symbol  symmetry_multiplicity fract_x fract_y fract_z  occupancy  \\\n",
       "0  Lu4a          Lu                     32       0       0       0      0.500   \n",
       "1  Zr4a          Zr                     32       0       0       0      0.500   \n",
       "2   O8c           O                     64    0.25    0.25    0.25      0.875   \n",
       "\n",
       "  B_iso_or_equiv site  \n",
       "0        1.69(7)   4a  \n",
       "1        1.69(7)   4a  \n",
       "2        3.39(9)   8c  "
      ]
     },
     "execution_count": 17,
     "metadata": {},
     "output_type": "execute_result"
    }
   ],
   "source": [
    "from rsc.cif_to_poscar import CIF_to_POSCAR\n",
    "\n",
    "fluorite = CIF_to_POSCAR('./CIF/Er2Zr2O7_Fluor_300K.cif','OUT/')\n",
    "\n",
    "fluorite.df"
   ]
  },
  {
   "cell_type": "code",
   "execution_count": 19,
   "metadata": {},
   "outputs": [],
   "source": [
    "# change the occupancy of the first site\n",
    "fluorite.df.loc[fluorite.df.site == '4a', 'occupancy'] = 0.666"
   ]
  },
  {
   "cell_type": "code",
   "execution_count": 20,
   "metadata": {},
   "outputs": [
    {
     "data": {
      "text/html": [
       "<div>\n",
       "<style scoped>\n",
       "    .dataframe tbody tr th:only-of-type {\n",
       "        vertical-align: middle;\n",
       "    }\n",
       "\n",
       "    .dataframe tbody tr th {\n",
       "        vertical-align: top;\n",
       "    }\n",
       "\n",
       "    .dataframe thead th {\n",
       "        text-align: right;\n",
       "    }\n",
       "</style>\n",
       "<table border=\"1\" class=\"dataframe\">\n",
       "  <thead>\n",
       "    <tr style=\"text-align: right;\">\n",
       "      <th></th>\n",
       "      <th>label</th>\n",
       "      <th>type_symbol</th>\n",
       "      <th>symmetry_multiplicity</th>\n",
       "      <th>fract_x</th>\n",
       "      <th>fract_y</th>\n",
       "      <th>fract_z</th>\n",
       "      <th>occupancy</th>\n",
       "      <th>B_iso_or_equiv</th>\n",
       "      <th>site</th>\n",
       "    </tr>\n",
       "  </thead>\n",
       "  <tbody>\n",
       "    <tr>\n",
       "      <th>0</th>\n",
       "      <td>Lu4a</td>\n",
       "      <td>Lu</td>\n",
       "      <td>32</td>\n",
       "      <td>0</td>\n",
       "      <td>0</td>\n",
       "      <td>0</td>\n",
       "      <td>0.666</td>\n",
       "      <td>1.69(7)</td>\n",
       "      <td>4a</td>\n",
       "    </tr>\n",
       "    <tr>\n",
       "      <th>1</th>\n",
       "      <td>Zr4a</td>\n",
       "      <td>Zr</td>\n",
       "      <td>32</td>\n",
       "      <td>0</td>\n",
       "      <td>0</td>\n",
       "      <td>0</td>\n",
       "      <td>0.666</td>\n",
       "      <td>1.69(7)</td>\n",
       "      <td>4a</td>\n",
       "    </tr>\n",
       "    <tr>\n",
       "      <th>2</th>\n",
       "      <td>O8c</td>\n",
       "      <td>O</td>\n",
       "      <td>64</td>\n",
       "      <td>0.25</td>\n",
       "      <td>0.25</td>\n",
       "      <td>0.25</td>\n",
       "      <td>0.875</td>\n",
       "      <td>3.39(9)</td>\n",
       "      <td>8c</td>\n",
       "    </tr>\n",
       "  </tbody>\n",
       "</table>\n",
       "</div>"
      ],
      "text/plain": [
       "  label type_symbol  symmetry_multiplicity fract_x fract_y fract_z  occupancy  \\\n",
       "0  Lu4a          Lu                     32       0       0       0      0.666   \n",
       "1  Zr4a          Zr                     32       0       0       0      0.666   \n",
       "2   O8c           O                     64    0.25    0.25    0.25      0.875   \n",
       "\n",
       "  B_iso_or_equiv site  \n",
       "0        1.69(7)   4a  \n",
       "1        1.69(7)   4a  \n",
       "2        3.39(9)   8c  "
      ]
     },
     "execution_count": 20,
     "metadata": {},
     "output_type": "execute_result"
    }
   ],
   "source": [
    "fluorite.df"
   ]
  },
  {
   "cell_type": "code",
   "execution_count": 21,
   "metadata": {},
   "outputs": [
    {
     "name": "stdout",
     "output_type": "stream",
     "text": [
      "Atoms: O site 8c is under occupied 0.875\n",
      "____________Counts {'Lu': 15, 'O': 56, 'Zr': 17} _________\n"
     ]
    }
   ],
   "source": [
    "fluorite.write_POSCAR()"
   ]
  }
 ],
 "metadata": {
  "kernelspec": {
   "display_name": "Python 3.9.12 ('ifk')",
   "language": "python",
   "name": "python3"
  },
  "language_info": {
   "codemirror_mode": {
    "name": "ipython",
    "version": 3
   },
   "file_extension": ".py",
   "mimetype": "text/x-python",
   "name": "python",
   "nbconvert_exporter": "python",
   "pygments_lexer": "ipython3",
   "version": "3.9.12"
  },
  "orig_nbformat": 4,
  "vscode": {
   "interpreter": {
    "hash": "f3448543969f4d7ccd8631c2a0b2f02de5759e8ca1e5cdc8f4685b78439f373f"
   }
  }
 },
 "nbformat": 4,
 "nbformat_minor": 2
}
